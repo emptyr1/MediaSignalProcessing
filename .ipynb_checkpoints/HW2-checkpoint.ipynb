{
 "metadata": {
  "name": "",
  "signature": "sha256:9d809a0e8296178419b9d8313cdd920fd4da5cd617f044fa899aca261f0ab669"
 },
 "nbformat": 3,
 "nbformat_minor": 0,
 "worksheets": [
  {
   "cells": [
    {
     "cell_type": "code",
     "collapsed": false,
     "input": [
      "#Produce a soundfile from image data or vicecersa. \n",
      "#Try to condition and select the data to make the results as interesting as possible.\n"
     ],
     "language": "python",
     "metadata": {},
     "outputs": [],
     "prompt_number": 1
    },
    {
     "cell_type": "code",
     "collapsed": false,
     "input": [
      "from scipy.io import wavfile\n",
      "img = imread('data/flower.png')"
     ],
     "language": "python",
     "metadata": {},
     "outputs": [],
     "prompt_number": 5
    },
    {
     "cell_type": "code",
     "collapsed": false,
     "input": [],
     "language": "python",
     "metadata": {},
     "outputs": []
    }
   ],
   "metadata": {}
  }
 ]
}